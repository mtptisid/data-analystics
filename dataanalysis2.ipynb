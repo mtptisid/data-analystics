{
 "cells": [
  {
   "cell_type": "code",
   "execution_count": 11,
   "id": "119cc652-1cf5-47b2-bcce-f717af211189",
   "metadata": {},
   "outputs": [],
   "source": [
    "import matplotlib.pyplot as plt\n",
    "import numpy as np\n",
    "import pandas as pd\n",
    "import seaborn as sns\n",
    "import datetime as dt"
   ]
  },
  {
   "cell_type": "code",
   "execution_count": 32,
   "id": "d447c5d6-7fa6-4201-bd42-00b68010bd41",
   "metadata": {},
   "outputs": [],
   "source": [
    "df=pd.read_csv('newfile.csv')"
   ]
  },
  {
   "cell_type": "code",
   "execution_count": 50,
   "id": "934d204f-54ef-422b-a186-a69576dba136",
   "metadata": {},
   "outputs": [],
   "source": [
    "df1=df[:4][['Country','Population']]"
   ]
  },
  {
   "cell_type": "code",
   "execution_count": 51,
   "id": "db289ead-bde1-4494-be6b-e8a04063e900",
   "metadata": {},
   "outputs": [
    {
     "data": {
      "text/html": [
       "<div>\n",
       "<style scoped>\n",
       "    .dataframe tbody tr th:only-of-type {\n",
       "        vertical-align: middle;\n",
       "    }\n",
       "\n",
       "    .dataframe tbody tr th {\n",
       "        vertical-align: top;\n",
       "    }\n",
       "\n",
       "    .dataframe thead th {\n",
       "        text-align: right;\n",
       "    }\n",
       "</style>\n",
       "<table border=\"1\" class=\"dataframe\">\n",
       "  <thead>\n",
       "    <tr style=\"text-align: right;\">\n",
       "      <th></th>\n",
       "      <th>Country</th>\n",
       "      <th>Population</th>\n",
       "    </tr>\n",
       "  </thead>\n",
       "  <tbody>\n",
       "    <tr>\n",
       "      <th>0</th>\n",
       "      <td>China</td>\n",
       "      <td>1.459865e+09</td>\n",
       "    </tr>\n",
       "    <tr>\n",
       "      <th>1</th>\n",
       "      <td>India</td>\n",
       "      <td>1.548765e+09</td>\n",
       "    </tr>\n",
       "    <tr>\n",
       "      <th>2</th>\n",
       "      <td>USA</td>\n",
       "      <td>8.765346e+08</td>\n",
       "    </tr>\n",
       "    <tr>\n",
       "      <th>3</th>\n",
       "      <td>Africa</td>\n",
       "      <td>7.356875e+08</td>\n",
       "    </tr>\n",
       "  </tbody>\n",
       "</table>\n",
       "</div>"
      ],
      "text/plain": [
       "  Country    Population\n",
       "0   China  1.459865e+09\n",
       "1   India  1.548765e+09\n",
       "2     USA  8.765346e+08\n",
       "3  Africa  7.356875e+08"
      ]
     },
     "execution_count": 51,
     "metadata": {},
     "output_type": "execute_result"
    }
   ],
   "source": [
    "df1"
   ]
  },
  {
   "cell_type": "code",
   "execution_count": 66,
   "id": "a996c106-7965-4d42-81a6-83b87e3ae8d9",
   "metadata": {},
   "outputs": [
    {
     "data": {
      "text/plain": [
       "<BarContainer object of 4 artists>"
      ]
     },
     "execution_count": 66,
     "metadata": {},
     "output_type": "execute_result"
    },
    {
     "data": {
      "image/png": "[encoded data removed]",
      "text/plain": [
       "<Figure size 500x500 with 1 Axes>"
      ]
     },
     "metadata": {},
     "output_type": "display_data"
    }
   ],
   "source": [
    "fig = plt.figure(figsize=(5,5))\n",
    "axes = fig.add_axes ([0,0,1,1])\n",
    "axes.set_xlabel('Country')\n",
    "axes.set_ylabel('Total Population')\n",
    "axes.set_title('Top 10 Countries Population by Region')\n",
    "\n",
    "#plt.bar(x=df1['Country'],color=['r','b','g','y'],height=df1['Population'], edgecolor='black')\n",
    "\n",
    "#plt.barh(y=df1['Country'],color=['r','b','g','y'],width=df1['Population'], edgecolor='black' )\n",
    "\n"
   ]
  },
  {
   "cell_type": "code",
   "execution_count": 3,
   "id": "85f6eda3-5b6c-472c-bc0b-b386d6d7e3ff",
   "metadata": {},
   "outputs": [],
   "source": [
    "stocks = pd.read_excel('stocks.xlsx')"
   ]
  },
  {
   "cell_type": "code",
   "execution_count": 4,
   "id": "1b961405-c575-46cc-9c48-c105921a7089",
   "metadata": {},
   "outputs": [
    {
     "data": {
      "text/html": [
       "<div>\n",
       "<style scoped>\n",
       "    .dataframe tbody tr th:only-of-type {\n",
       "        vertical-align: middle;\n",
       "    }\n",
       "\n",
       "    .dataframe tbody tr th {\n",
       "        vertical-align: top;\n",
       "    }\n",
       "\n",
       "    .dataframe thead th {\n",
       "        text-align: right;\n",
       "    }\n",
       "</style>\n",
       "<table border=\"1\" class=\"dataframe\">\n",
       "  <thead>\n",
       "    <tr style=\"text-align: right;\">\n",
       "      <th></th>\n",
       "      <th>Symbol</th>\n",
       "      <th>Date</th>\n",
       "      <th>Open</th>\n",
       "      <th>High</th>\n",
       "      <th>Low</th>\n",
       "      <th>Close</th>\n",
       "      <th>Adj close</th>\n",
       "      <th>Volume</th>\n",
       "      <th>Year</th>\n",
       "    </tr>\n",
       "  </thead>\n",
       "  <tbody>\n",
       "    <tr>\n",
       "      <th>0</th>\n",
       "      <td>AAPL</td>\n",
       "      <td>2017-01-27</td>\n",
       "      <td>30.535000</td>\n",
       "      <td>30.587500</td>\n",
       "      <td>30.400000</td>\n",
       "      <td>30.487499</td>\n",
       "      <td>28.697330</td>\n",
       "      <td>82251600</td>\n",
       "      <td>2017</td>\n",
       "    </tr>\n",
       "    <tr>\n",
       "      <th>1</th>\n",
       "      <td>AAPL</td>\n",
       "      <td>2017-01-30</td>\n",
       "      <td>30.232500</td>\n",
       "      <td>30.407499</td>\n",
       "      <td>30.165001</td>\n",
       "      <td>30.407499</td>\n",
       "      <td>28.622028</td>\n",
       "      <td>121510000</td>\n",
       "      <td>2017</td>\n",
       "    </tr>\n",
       "    <tr>\n",
       "      <th>2</th>\n",
       "      <td>MBFT</td>\n",
       "      <td>2017-01-31</td>\n",
       "      <td>30.287500</td>\n",
       "      <td>30.347500</td>\n",
       "      <td>30.155001</td>\n",
       "      <td>30.337500</td>\n",
       "      <td>28.556135</td>\n",
       "      <td>196804000</td>\n",
       "      <td>2017</td>\n",
       "    </tr>\n",
       "    <tr>\n",
       "      <th>3</th>\n",
       "      <td>MBFT</td>\n",
       "      <td>2017-02-01</td>\n",
       "      <td>31.757500</td>\n",
       "      <td>32.622501</td>\n",
       "      <td>31.752501</td>\n",
       "      <td>32.187500</td>\n",
       "      <td>30.297506</td>\n",
       "      <td>447940000</td>\n",
       "      <td>2017</td>\n",
       "    </tr>\n",
       "    <tr>\n",
       "      <th>4</th>\n",
       "      <td>FB</td>\n",
       "      <td>2017-02-02</td>\n",
       "      <td>31.995001</td>\n",
       "      <td>32.347500</td>\n",
       "      <td>31.945000</td>\n",
       "      <td>32.132500</td>\n",
       "      <td>30.245735</td>\n",
       "      <td>134841600</td>\n",
       "      <td>2017</td>\n",
       "    </tr>\n",
       "  </tbody>\n",
       "</table>\n",
       "</div>"
      ],
      "text/plain": [
       "  Symbol       Date       Open       High        Low      Close  Adj close  \\\n",
       "0   AAPL 2017-01-27  30.535000  30.587500  30.400000  30.487499  28.697330   \n",
       "1   AAPL 2017-01-30  30.232500  30.407499  30.165001  30.407499  28.622028   \n",
       "2   MBFT 2017-01-31  30.287500  30.347500  30.155001  30.337500  28.556135   \n",
       "3   MBFT 2017-02-01  31.757500  32.622501  31.752501  32.187500  30.297506   \n",
       "4     FB 2017-02-02  31.995001  32.347500  31.945000  32.132500  30.245735   \n",
       "\n",
       "      Volume  Year  \n",
       "0   82251600  2017  \n",
       "1  121510000  2017  \n",
       "2  196804000  2017  \n",
       "3  447940000  2017  \n",
       "4  134841600  2017  "
      ]
     },
     "execution_count": 4,
     "metadata": {},
     "output_type": "execute_result"
    }
   ],
   "source": [
    "stocks"
   ]
  },
  {
   "cell_type": "code",
   "execution_count": 9,
   "id": "9782e12b-ce2e-4f1b-9adc-66e008d511b4",
   "metadata": {},
   "outputs": [
    {
     "data": {
      "text/html": [
       "<div>\n",
       "<style scoped>\n",
       "    .dataframe tbody tr th:only-of-type {\n",
       "        vertical-align: middle;\n",
       "    }\n",
       "\n",
       "    .dataframe tbody tr th {\n",
       "        vertical-align: top;\n",
       "    }\n",
       "\n",
       "    .dataframe thead th {\n",
       "        text-align: right;\n",
       "    }\n",
       "</style>\n",
       "<table border=\"1\" class=\"dataframe\">\n",
       "  <thead>\n",
       "    <tr style=\"text-align: right;\">\n",
       "      <th></th>\n",
       "      <th>Symbol</th>\n",
       "      <th>Open</th>\n",
       "      <th>High</th>\n",
       "      <th>Close</th>\n",
       "      <th>Volume</th>\n",
       "    </tr>\n",
       "  </thead>\n",
       "  <tbody>\n",
       "    <tr>\n",
       "      <th>0</th>\n",
       "      <td>AAPL</td>\n",
       "      <td>30.5350</td>\n",
       "      <td>30.587500</td>\n",
       "      <td>30.487499</td>\n",
       "      <td>82251600</td>\n",
       "    </tr>\n",
       "    <tr>\n",
       "      <th>1</th>\n",
       "      <td>AAPL</td>\n",
       "      <td>30.2325</td>\n",
       "      <td>30.407499</td>\n",
       "      <td>30.407499</td>\n",
       "      <td>121510000</td>\n",
       "    </tr>\n",
       "  </tbody>\n",
       "</table>\n",
       "</div>"
      ],
      "text/plain": [
       "  Symbol     Open       High      Close     Volume\n",
       "0   AAPL  30.5350  30.587500  30.487499   82251600\n",
       "1   AAPL  30.2325  30.407499  30.407499  121510000"
      ]
     },
     "execution_count": 9,
     "metadata": {},
     "output_type": "execute_result"
    }
   ],
   "source": [
    "stocks[stocks['Symbol']=='AAPL'][['Symbol','Open','High','Close','Volume']]"
   ]
  },
  {
   "cell_type": "code",
   "execution_count": 15,
   "id": "5736badc-6631-459b-b98d-e5e8ca6f3266",
   "metadata": {},
   "outputs": [
    {
     "data": {
      "text/plain": [
       "<Axes: xlabel='Date', ylabel='Close'>"
      ]
     },
     "execution_count": 15,
     "metadata": {},
     "output_type": "execute_result"
    },
    {
     "data": {
      "image/png": "[encoded data removed]",
      "text/plain": [
       "<Figure size 2000x1000 with 1 Axes>"
      ]
     },
     "metadata": {},
     "output_type": "display_data"
    }
   ],
   "source": [
    "plt.figure(figsize=(20,10))\n",
    "sns.lineplot(x='Date',y='Close', data=stocks, hue='Symbol')"
   ]
  },
  {
   "cell_type": "code",
   "execution_count": null,
   "id": "2207faf0-6ace-433f-b5ca-b8c77f233d66",
   "metadata": {},
   "outputs": [],
   "source": [
    "\n",
    "\n"
   ]
  },
  {
   "cell_type": "code",
   "execution_count": null,
   "id": "e15869ae-9b52-4ddc-8ac8-27d822c45ea2",
   "metadata": {},
   "outputs": [],
   "source": []
  },
  {
   "cell_type": "code",
   "execution_count": 16,
   "id": "5564fa5e-7b91-46ce-8612-4907a66bb889",
   "metadata": {},
   "outputs": [],
   "source": [
    "def my_message():\n",
    "    return 'Hello i am Python'"
   ]
  },
  {
   "cell_type": "code",
   "execution_count": 17,
   "id": "9e1cfc15-6004-40e8-ad26-ca10053ee8c6",
   "metadata": {},
   "outputs": [
    {
     "data": {
      "text/plain": [
       "'Hello i am Python'"
      ]
     },
     "execution_count": 17,
     "metadata": {},
     "output_type": "execute_result"
    }
   ],
   "source": [
    "my_message(\n",
    ")"
   ]
  },
  {
   "cell_type": "code",
   "execution_count": 18,
   "id": "4d710732-1ed1-4751-a405-79de19a77bd6",
   "metadata": {},
   "outputs": [],
   "source": [
    "x =my_message()"
   ]
  },
  {
   "cell_type": "code",
   "execution_count": 19,
   "id": "f2afeb0f-901c-419d-aab0-e7085a40d004",
   "metadata": {},
   "outputs": [
    {
     "data": {
      "text/plain": [
       "'Hello i am Python'"
      ]
     },
     "execution_count": 19,
     "metadata": {},
     "output_type": "execute_result"
    }
   ],
   "source": [
    "x"
   ]
  },
  {
   "cell_type": "code",
   "execution_count": null,
   "id": "158f4bb7-b35f-4e45-93b9-da888b92a324",
   "metadata": {},
   "outputs": [],
   "source": []
  }
 ],
 "metadata": {
  "kernelspec": {
   "display_name": "Python 3 (ipykernel)",
   "language": "python",
   "name": "python3"
  },
  "language_info": {
   "codemirror_mode": {
    "name": "ipython",
    "version": 3
   },
   "file_extension": ".py",
   "mimetype": "text/x-python",
   "name": "python",
   "nbconvert_exporter": "python",
   "pygments_lexer": "ipython3",
   "version": "3.11.3"
  }
 },
 "nbformat": 4,
 "nbformat_minor": 5
}
